{
 "cells": [
  {
   "cell_type": "markdown",
   "id": "a63b87dd-fefe-4ad6-a53a-9a07150d2cf9",
   "metadata": {},
   "source": [
    "# Task 1: Data Collection\n",
    "Curate a dataset of 50-100 images containing cars and buses. To achieve this, you should create a web scraping script using tools like Python's Beautiful Soup or Scrapy to collect images from the web (use keywords like- street car or bus)."
   ]
  },
  {
   "cell_type": "markdown",
   "id": "a5cbe6cf-5673-4944-a5a3-3d56d9bce252",
   "metadata": {},
   "source": [
    "### Required modules"
   ]
  },
  {
   "cell_type": "code",
   "execution_count": 1,
   "id": "ac5cfd92-8b49-4237-a79f-d86a14ed15ae",
   "metadata": {},
   "outputs": [],
   "source": [
    "# required modules \n",
    "import os\n",
    "import urllib\n",
    "import time\n",
    "from selenium import webdriver\n",
    "from selenium.webdriver.common.by import By\n",
    "from selenium.webdriver.common.keys import Keys\n",
    "from selenium.webdriver.support.ui import WebDriverWait\n",
    "from selenium.webdriver.support import expected_conditions as EC"
   ]
  },
  {
   "cell_type": "markdown",
   "id": "b4b5646a-9af7-4694-91ac-da30c8e17c62",
   "metadata": {},
   "source": [
    "### System specification or browser versions"
   ]
  },
  {
   "cell_type": "code",
   "execution_count": 2,
   "id": "63fa0a7d-52ac-4de1-af99-9f5acef3d26c",
   "metadata": {},
   "outputs": [],
   "source": [
    "# header: contains the browser's version or system specification\n",
    "header = \"user-agent=Mozilla/5.0 (Windows NT 10.0; Win64; x64) AppleWebKit/537.36 (KHTML, like Gecko) Chrome/117.0.5938.152 Safari/537.36\""
   ]
  },
  {
   "cell_type": "markdown",
   "id": "24225659-14d0-4a87-a700-17f4d36133e0",
   "metadata": {},
   "source": [
    "### Setting up driver"
   ]
  },
  {
   "cell_type": "code",
   "execution_count": 3,
   "id": "4358e9f5-2eef-4ec2-a60a-dc4bdbb2e756",
   "metadata": {},
   "outputs": [],
   "source": [
    "# setting header webdriver\n",
    "options = webdriver.ChromeOptions()       \n",
    "options.add_argument(header)              \n",
    "\n",
    "# initializing chrome instance or driver\n",
    "driver = webdriver.Chrome(options = options)     \n",
    "driver.maximize_window()  "
   ]
  },
  {
   "cell_type": "code",
   "execution_count": 4,
   "id": "397d3f51-e1f6-48d3-a9a4-f31da008326c",
   "metadata": {},
   "outputs": [],
   "source": [
    "# base url from where we scrape images\n",
    "URL=\"https://www.google.com/search?q\"\n",
    "# search key\n",
    "key = 'car and bus on road'"
   ]
  },
  {
   "cell_type": "markdown",
   "id": "0d6d1193-8620-4ed0-ad3b-af2bb88a5d9a",
   "metadata": {},
   "source": [
    "### Opening base url"
   ]
  },
  {
   "cell_type": "code",
   "execution_count": 5,
   "id": "87cc2232-defc-4e0a-b9d8-3df0c62bc6ca",
   "metadata": {},
   "outputs": [],
   "source": [
    "# opening base url \n",
    "driver.get(URL)"
   ]
  },
  {
   "cell_type": "markdown",
   "id": "4b79ff41-1fdb-4a7d-9969-40037471130b",
   "metadata": {},
   "source": [
    "### Passing keywords to search box"
   ]
  },
  {
   "cell_type": "code",
   "execution_count": 6,
   "id": "86fcf241-cf05-4d6e-92f0-cad90127de79",
   "metadata": {},
   "outputs": [],
   "source": [
    "# finding search box \n",
    "search_box = driver.find_element(By.XPATH, \"/html/body/div[1]/div[3]/form/div[1]/div[1]/div[1]/div/div[2]/textarea\")\n",
    "\n",
    "# sending the keywors to search box -----> car and bus on road\n",
    "search_box.send_keys(key)\n",
    "driver.find_element(By.XPATH, \"/html/body/div[1]/div[3]/form/div[1]/div[1]/div[4]/center/input[1]\").send_keys(Keys.ENTER)  "
   ]
  },
  {
   "cell_type": "markdown",
   "id": "5c8aff4b-4f19-4486-9371-d06cbd68c8a6",
   "metadata": {},
   "source": [
    "### Clicking to images tab"
   ]
  },
  {
   "cell_type": "code",
   "execution_count": 7,
   "id": "fcf9f975-04de-4e0a-82ff-633bf5d5595c",
   "metadata": {},
   "outputs": [],
   "source": [
    "# clicking on images tab for scraping images\n",
    "driver.find_element(By.XPATH, \"//div[@class='hdtb-mitem']/a\").click()\n",
    "\n",
    "# scroling down window for getting more images\n",
    "for _ in range(3):\n",
    "    driver.execute_script(\"window.scrollTo(0, document.body.scrollHeight);\")   \n",
    "    time.sleep(2) \n",
    "# driver.execute_script(\"window.scrollTo(0, document.body.scrollHeight);\")\n",
    "# driver.execute_script(\"window.scrollTo(0, document.body.scrollHeight);\")"
   ]
  },
  {
   "cell_type": "markdown",
   "id": "b8557f92-e7c9-4815-8a72-f3479396b081",
   "metadata": {},
   "source": [
    "### Scraping all images element"
   ]
  },
  {
   "cell_type": "code",
   "execution_count": 8,
   "id": "1f00aead-b201-4ce1-90e7-dbdacc670862",
   "metadata": {},
   "outputs": [],
   "source": [
    "# scraping all photos\n",
    "images = driver.find_elements(By.XPATH, \"//img[@class='rg_i Q4LuWd']\")"
   ]
  },
  {
   "cell_type": "code",
   "execution_count": 9,
   "id": "e30c1ec2-6147-4029-91e1-4dde0f58a917",
   "metadata": {},
   "outputs": [],
   "source": [
    "# creating directory for storing images\n",
    "os.makedirs(f\"data/raw_downloaded_images/\", exist_ok = True)    "
   ]
  },
  {
   "cell_type": "markdown",
   "id": "d72ab95d-3d77-40c4-bdb0-6bfede6e5b26",
   "metadata": {},
   "source": [
    "### Storing scraping images into drive"
   ]
  },
  {
   "cell_type": "code",
   "execution_count": 10,
   "id": "62ac739a-8fe3-42aa-8f5c-f22bc6be930f",
   "metadata": {},
   "outputs": [],
   "source": [
    "# storing images\n",
    "counter = 0\n",
    "for image in images:\n",
    "    image_link = image.get_attribute('src')              # extracting image link\n",
    "    if image_link != None:\n",
    "        # downloading image from image_link and saving into data/raw_downloaded_images/ directory\n",
    "        urllib.request.urlretrieve(str(image_link),f\"data/raw_downloaded_images/{counter}.jpg\")\n",
    "    counter += 1"
   ]
  },
  {
   "cell_type": "markdown",
   "id": "9bcd2c00-39ef-41c4-a6d7-bf55a84a2b47",
   "metadata": {},
   "source": [
    "### Closing the driver"
   ]
  },
  {
   "cell_type": "code",
   "execution_count": 11,
   "id": "7e94f05f-f1d7-46c6-81d1-f66268340889",
   "metadata": {},
   "outputs": [],
   "source": [
    "# after scraping, closing the driver\n",
    "driver.close()"
   ]
  }
 ],
 "metadata": {
  "kernelspec": {
   "display_name": "Python 3 (ipykernel)",
   "language": "python",
   "name": "python3"
  },
  "language_info": {
   "codemirror_mode": {
    "name": "ipython",
    "version": 3
   },
   "file_extension": ".py",
   "mimetype": "text/x-python",
   "name": "python",
   "nbconvert_exporter": "python",
   "pygments_lexer": "ipython3",
   "version": "3.9.0"
  }
 },
 "nbformat": 4,
 "nbformat_minor": 5
}
