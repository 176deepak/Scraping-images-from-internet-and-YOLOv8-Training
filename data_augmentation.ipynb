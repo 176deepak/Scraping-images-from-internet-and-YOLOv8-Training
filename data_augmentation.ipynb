{
 "cells": [
  {
   "cell_type": "markdown",
   "id": "f53192a7-1411-4132-82ae-a1d1633f170c",
   "metadata": {},
   "source": [
    "# Data Augmentation\n",
    "Increases the size of dataset by creating new images from old images by rotating images, flipping images, controlling contrast, brightness etc."
   ]
  },
  {
   "cell_type": "markdown",
   "id": "544717ec-3b61-4696-b18c-9d72dad280c0",
   "metadata": {},
   "source": [
    "### Required modules"
   ]
  },
  {
   "cell_type": "code",
   "execution_count": 1,
   "id": "5a9fb071-d046-4715-b9a5-c2c61ab33bdd",
   "metadata": {},
   "outputs": [],
   "source": [
    "import os\n",
    "import cv2\n",
    "import numpy as np"
   ]
  },
  {
   "cell_type": "markdown",
   "id": "686de77a-b88d-4b7b-9c4b-4c1b021168bf",
   "metadata": {},
   "source": [
    "### raw images directory"
   ]
  },
  {
   "cell_type": "code",
   "execution_count": 2,
   "id": "895f1db8-44d2-4690-b7bc-71c519ef68d4",
   "metadata": {},
   "outputs": [],
   "source": [
    "dir_path = r'data\\raw_downloaded_images'"
   ]
  },
  {
   "cell_type": "markdown",
   "id": "7be94ad2-7b03-4b58-9aef-7378dc1fa497",
   "metadata": {},
   "source": [
    "### function for data augmentation"
   ]
  },
  {
   "cell_type": "code",
   "execution_count": 3,
   "id": "bcec4fd2-cac3-42f3-b191-e87ef303bc07",
   "metadata": {},
   "outputs": [],
   "source": [
    "def augment_images(images_dir, angle = 30, alpha=1.0, beta=0):\n",
    "    '''\n",
    "    work: generate new images from old images by three operations\n",
    "            1. Rotation\n",
    "            2. Flipping\n",
    "            3. Controling brightness and contrast \n",
    "    '''\n",
    "    # dataset path\n",
    "    images = os.listdir(images_dir)\n",
    "    # creating folder where augmentad images will be stored\n",
    "    augmentad_images = \"data/augmentad_images\"\n",
    "    os.makedirs(augmentad_images, exist_ok = True)\n",
    "\n",
    "    # applying above three operation on each image\n",
    "    for image_no, image_name in enumerate(images):\n",
    "        # generating image path\n",
    "        image_path = os.path.join(images_dir, image_name)\n",
    "        # reading file from generated image_path\n",
    "        image = cv2.imread(image_path)\n",
    "        # first saving original image into output folder\n",
    "        cv2.imwrite(os.path.join(augmentad_images, image_name), image)\n",
    "        \n",
    "        # Rotation\n",
    "        # applying rotation operation on original image\n",
    "        rows, cols, _ = image.shape\n",
    "        M = cv2.getRotationMatrix2D((cols/2, rows/2), angle, 1)    # rotation matrix of image\n",
    "        rotated_image = cv2.warpAffine(image, M, (cols, rows))        # affine transformation of image: rotating image\n",
    "        rotated_img_path = os.path.join(augmentad_images, f\"rotated_img{image_no}.jpg\")\n",
    "        cv2.imwrite(rotated_img_path, rotated_image)                # saving new rotated image at rotated_img_path\n",
    "\n",
    "        # Fliping\n",
    "        # applying Fliping operation on original image\n",
    "        horizontal_flipped_img = cv2.flip(image, 1)        # axis = 1: means horizontally\n",
    "        flipped_img_path = os.path.join(augmentad_images, f\"horizontal_flipped_img{image_no}.jpg\")\n",
    "        cv2.imwrite(flipped_img_path, horizontal_flipped_img)              # horizontally\n",
    "        \n",
    "        vertical_flipped_img = cv2.flip(image, 0)          # axis = 0: means vertically\n",
    "        flipped_img_path = os.path.join(augmentad_images, f\"vertical_flipped_img{image_no}.jpg\")\n",
    "        cv2.imwrite(flipped_img_path, vertical_flipped_img)                # vertically\n",
    "\n",
    "        # Brightness and Contrast\n",
    "        # applying Brightness and Contrast operation on original image\n",
    "        adjusted_image = cv2.convertScaleAbs(image, alpha=alpha, beta=beta)\n",
    "        adjusted_img_path = os.path.join(augmentad_images, f\"adjusted_image{image_no}.jpg\")\n",
    "        cv2.imwrite(adjusted_img_path, adjusted_image)"
   ]
  },
  {
   "cell_type": "code",
   "execution_count": 4,
   "id": "4128fcc0-7ed4-47fd-8901-5c2feacee6d8",
   "metadata": {},
   "outputs": [],
   "source": [
    "augment_images(dir_path)"
   ]
  },
  {
   "cell_type": "code",
   "execution_count": null,
   "id": "738d618f-86c2-4e21-afd7-1bf8ee82eb1f",
   "metadata": {},
   "outputs": [],
   "source": []
  }
 ],
 "metadata": {
  "kernelspec": {
   "display_name": "Python 3 (ipykernel)",
   "language": "python",
   "name": "python3"
  },
  "language_info": {
   "codemirror_mode": {
    "name": "ipython",
    "version": 3
   },
   "file_extension": ".py",
   "mimetype": "text/x-python",
   "name": "python",
   "nbconvert_exporter": "python",
   "pygments_lexer": "ipython3",
   "version": "3.9.0"
  }
 },
 "nbformat": 4,
 "nbformat_minor": 5
}
